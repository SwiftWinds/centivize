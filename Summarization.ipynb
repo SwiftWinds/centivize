{
  "nbformat": 4,
  "nbformat_minor": 0,
  "metadata": {
    "colab": {
      "name": "Summarization.ipynb",
      "provenance": [],
      "collapsed_sections": [],
      "authorship_tag": "ABX9TyN8c3jcP2LNjTf8EvbqkHAb",
      "include_colab_link": true
    },
    "kernelspec": {
      "name": "python3",
      "display_name": "Python 3"
    }
  },
  "cells": [
    {
      "cell_type": "markdown",
      "metadata": {
        "id": "view-in-github",
        "colab_type": "text"
      },
      "source": [
        "<a href=\"https://colab.research.google.com/github/SwiftWinds/hack-now/blob/master/Summarization.ipynb\" target=\"_parent\"><img src=\"https://colab.research.google.com/assets/colab-badge.svg\" alt=\"Open In Colab\"/></a>"
      ]
    },
    {
      "cell_type": "code",
      "metadata": {
        "id": "ZZ46SfU5_3Tv",
        "colab_type": "code",
        "colab": {
          "base_uri": "https://localhost:8080/",
          "height": 513
        },
        "outputId": "486c8b63-238e-490e-d995-7dfe58dff4fc"
      },
      "source": [
        "!pip install transformers\n",
        "from transformers import pipeline\n",
        "qa = pipeline('summarization')\n",
        "\n",
        "import nltk\n",
        "from nltk import tokenize\n",
        "nltk.download('punkt')"
      ],
      "execution_count": 11,
      "outputs": [
        {
          "output_type": "stream",
          "text": [
            "Requirement already satisfied: transformers in /usr/local/lib/python3.6/dist-packages (2.8.0)\n",
            "Requirement already satisfied: requests in /usr/local/lib/python3.6/dist-packages (from transformers) (2.21.0)\n",
            "Requirement already satisfied: sacremoses in /usr/local/lib/python3.6/dist-packages (from transformers) (0.0.41)\n",
            "Requirement already satisfied: numpy in /usr/local/lib/python3.6/dist-packages (from transformers) (1.18.3)\n",
            "Requirement already satisfied: dataclasses; python_version < \"3.7\" in /usr/local/lib/python3.6/dist-packages (from transformers) (0.7)\n",
            "Requirement already satisfied: regex!=2019.12.17 in /usr/local/lib/python3.6/dist-packages (from transformers) (2019.12.20)\n",
            "Requirement already satisfied: filelock in /usr/local/lib/python3.6/dist-packages (from transformers) (3.0.12)\n",
            "Requirement already satisfied: boto3 in /usr/local/lib/python3.6/dist-packages (from transformers) (1.12.43)\n",
            "Requirement already satisfied: tqdm>=4.27 in /usr/local/lib/python3.6/dist-packages (from transformers) (4.38.0)\n",
            "Requirement already satisfied: tokenizers==0.5.2 in /usr/local/lib/python3.6/dist-packages (from transformers) (0.5.2)\n",
            "Requirement already satisfied: sentencepiece in /usr/local/lib/python3.6/dist-packages (from transformers) (0.1.86)\n",
            "Requirement already satisfied: urllib3<1.25,>=1.21.1 in /usr/local/lib/python3.6/dist-packages (from requests->transformers) (1.24.3)\n",
            "Requirement already satisfied: idna<2.9,>=2.5 in /usr/local/lib/python3.6/dist-packages (from requests->transformers) (2.8)\n",
            "Requirement already satisfied: chardet<3.1.0,>=3.0.2 in /usr/local/lib/python3.6/dist-packages (from requests->transformers) (3.0.4)\n",
            "Requirement already satisfied: certifi>=2017.4.17 in /usr/local/lib/python3.6/dist-packages (from requests->transformers) (2020.4.5.1)\n",
            "Requirement already satisfied: click in /usr/local/lib/python3.6/dist-packages (from sacremoses->transformers) (7.1.1)\n",
            "Requirement already satisfied: joblib in /usr/local/lib/python3.6/dist-packages (from sacremoses->transformers) (0.14.1)\n",
            "Requirement already satisfied: six in /usr/local/lib/python3.6/dist-packages (from sacremoses->transformers) (1.12.0)\n",
            "Requirement already satisfied: botocore<1.16.0,>=1.15.43 in /usr/local/lib/python3.6/dist-packages (from boto3->transformers) (1.15.43)\n",
            "Requirement already satisfied: s3transfer<0.4.0,>=0.3.0 in /usr/local/lib/python3.6/dist-packages (from boto3->transformers) (0.3.3)\n",
            "Requirement already satisfied: jmespath<1.0.0,>=0.7.1 in /usr/local/lib/python3.6/dist-packages (from boto3->transformers) (0.9.5)\n",
            "Requirement already satisfied: python-dateutil<3.0.0,>=2.1 in /usr/local/lib/python3.6/dist-packages (from botocore<1.16.0,>=1.15.43->boto3->transformers) (2.8.1)\n",
            "Requirement already satisfied: docutils<0.16,>=0.10 in /usr/local/lib/python3.6/dist-packages (from botocore<1.16.0,>=1.15.43->boto3->transformers) (0.15.2)\n"
          ],
          "name": "stdout"
        },
        {
          "output_type": "stream",
          "text": [
            "Couldn't reach server at 'https://s3.amazonaws.com/models.huggingface.co/bert/facebook/bart-large-cnn/modelcard.json' to download model card file.\n",
            "Creating an empty model card.\n"
          ],
          "name": "stderr"
        },
        {
          "output_type": "stream",
          "text": [
            "[nltk_data] Downloading package punkt to /root/nltk_data...\n",
            "[nltk_data]   Unzipping tokenizers/punkt.zip.\n"
          ],
          "name": "stdout"
        },
        {
          "output_type": "execute_result",
          "data": {
            "text/plain": [
              "True"
            ]
          },
          "metadata": {
            "tags": []
          },
          "execution_count": 11
        }
      ]
    },
    {
      "cell_type": "code",
      "metadata": {
        "id": "AbS0nXSg_7qs",
        "colab_type": "code",
        "colab": {}
      },
      "source": [
        "graf = 'If a patient observes effects on him other than the desired ones, they should contact their doctor. The doctor can evaluate if it is a medication side-effect, how severe it is, and if the patient should continue to use the prescribed medication or if the therapy should be amended. Depending on the extent of dehydration, various diagnostic measures and therapies are necessary. In the case of mild dehydration, a visit to your doctor and drinking lots of fluids is sufficient. In serious cases, circumstances call for intensive medical observation and treatment via infusion. The symptoms described above in addition to characteristic diagnostics from physical examinations as well as changes to inflammation markers of the blood and in most cases also changes of the ECG lead the doctor to his diagnosis. He will also perform an ultrasound examination of the heart to rule out that liquids accumulate inside the pericardium. The first step of therapy is physical rest. All other measures depend on the cause of the pericarditis. Antibiotics for pericarditis caused by bacteria, cortisone or other anti-inflammatory medication for viral or unknown causes are only a few possible treatment options. The prognosis of pericarditis also depends on the cause. Most cases of pericarditis will heal; others develop into a chronic form. Sometimes a re-occurrence of pericarditis is possible. While chronic middle ear inflammation of the mucus membrane is not life-threatening, chloesteatoma can attack the structures in the middle and inner ear. This form of inflammation requires surgery. For the treatment of acute forms, anti-inflammatory nasal sprays and pain medication are often effective against symptoms. Treatment with antibiotics, in the base of a bacterial infection, is effective and shorts the length of the disease. Proper treatment can help to fight the underlying cause and to reduce the symptoms of dizziness and vertigo. Medications like antiviral drugs, antibiotics, sedatives and steroids are, depending on the cause, used to treat labyrinthitis. Other medications that can reduce the symptoms of nausea and vomiting including prochlorperazine, and to relieve the symptoms of dizziness, meclizine is also commonly prescribed. With proper treatment, symptoms of labyrinthitis can improve within a few weeks and can achieve full recovery in a month or two. Without proper treatment, a labyrinthitis can lead to permanent damage on hearing and balance functions.'"
      ],
      "execution_count": 0,
      "outputs": []
    },
    {
      "cell_type": "code",
      "metadata": {
        "id": "ZDvNsEH4AQyD",
        "colab_type": "code",
        "colab": {}
      },
      "source": [
        "def split_graf(graf, sent_num):\n",
        "    graf = tokenize.sent_tokenize(graf)\n",
        "    final = []\n",
        "    for i in range(len(graf)):\n",
        "        if i % sent_num == 0:\n",
        "            final.append(graf[i])\n",
        "        else:\n",
        "            final[-1] += ' '\n",
        "            final[-1] += graf[i]\n",
        "    return final"
      ],
      "execution_count": 0,
      "outputs": []
    },
    {
      "cell_type": "code",
      "metadata": {
        "id": "cItn60v1Is_o",
        "colab_type": "code",
        "colab": {}
      },
      "source": [
        "def get_summary(graf, sent_num=11):\n",
        "    split = split_graf(graf, sent_num)\n",
        "    summ = qa(split)\n",
        "    out = ''\n",
        "    for block in summ:\n",
        "        out += block['summary_text']\n",
        "    return out"
      ],
      "execution_count": 0,
      "outputs": []
    },
    {
      "cell_type": "code",
      "metadata": {
        "id": "krTujvg-WIPB",
        "colab_type": "code",
        "colab": {
          "base_uri": "https://localhost:8080/",
          "height": 54
        },
        "outputId": "82c1e5e0-71d4-4e77-9bfc-871811a87b67"
      },
      "source": [
        "get_summary(graf, sent_num=11)"
      ],
      "execution_count": 36,
      "outputs": [
        {
          "output_type": "execute_result",
          "data": {
            "text/plain": [
              "'In the case of mild dehydration, a visit to your doctor and drinking lots of fluids is sufficient. In serious cases, circumstances call for intensive medical observation and treatment. Antibiotics for pericarditis caused by bacteria, cortisone or other anti-inflammatory medication for viral or unknown causes are only a few possible treatment options.Most cases of pericarditis will heal; others develop into a chronic form. Treatment with antibiotics, in the base of a bacterial infection, is effective and shorts the length of the disease. Medications like antiviral drugs, antibiotics, sedatives and steroids are, depending on the cause, used to treat labyrinthitis.'"
            ]
          },
          "metadata": {
            "tags": []
          },
          "execution_count": 36
        }
      ]
    },
    {
      "cell_type": "code",
      "metadata": {
        "id": "ieekluKCWKL8",
        "colab_type": "code",
        "colab": {}
      },
      "source": [
        ""
      ],
      "execution_count": 0,
      "outputs": []
    }
  ]
}